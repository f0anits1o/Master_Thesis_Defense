{
 "cells": [
  {
   "cell_type": "markdown",
   "id": "64d5bd38-31e0-4d4a-8b6d-045f1b0253ec",
   "metadata": {},
   "source": [
    "# Plot of the radial component of the magnetic field $B_r(\\frac{r}{r_l})$ and $r \\cdot B_r(\\frac{r}{r_l})$"
   ]
  },
  {
   "cell_type": "markdown",
   "id": "c8c70e55-a292-405e-b938-d6aad70d391d",
   "metadata": {},
   "source": [
    "$\\mathbf{\\text{According Petri 2013, the expression of the radiale component is given by the eq.(1a):  }}$<br>\n",
    "\\begin{align*}\n",
    "B_r &= {\\beta}_{v}^2 \\cdot B_L \\cdot \\frac{r_L^2}{r^2} \\cdot \\tanh(\\frac{\\Psi_s}{\\Delta}) &( 1a)\\\\\n",
    "&=  {\\beta}_{v}^2 \\cdot B_L \\cdot \\frac{1}{\\frac{r^2}{r_L^2}} \\cdot \\tanh(\\frac{\\Psi_s}{\\Delta}) \\\\\n",
    "\\end{align*}<br>\n",
    "\n",
    "**Suppose** $ z = \\frac{r^2}{r_L^2}$, __then__ ,   $ B_r = {\\beta}_{v}^2 \\cdot B_L \\cdot \\frac{1}{z}  \\cdot \\tanh(\\frac{\\Psi_s}{\\Delta}) \\\\ $\n",
    "\n",
    "The expression of $ \\psi_s $ is given by the **Eq.(2) in Petri 2013**:\n",
    "\\begin{equation}\n",
    "\\psi_s = \\cos(\\upsilon) \\cdot \\cos(\\chi) + \\sin(\\upsilon) \\cdot \\sin(\\chi) \\cos(\\varphi - \\Omega \\cdot (t -\\frac{r}{\\beta_v \\cdot c}) )\n",
    "\\end{equation}\n",
    "\n",
    "Where $\\beta_v = \\frac{v}{c}$ , $\\Omega = \\frac{c}{r_L} $ and $ t = 0$\n",
    "\n",
    "\\begin{align*}\n",
    "\\psi_s &=  \\cos(\\upsilon) \\cdot \\cos(\\chi) + \\sin(\\upsilon) \\cdot \\sin(\\chi) \\cos(\\varphi - \\frac{c}{r_L} \\cdot (0 -\\frac{r}{\\frac{v}{c} \\cdot c} ) \\\\\n",
    "&= \\cos(\\upsilon) \\cdot \\cos(\\chi) + \\sin(\\upsilon) \\cdot \\sin(\\chi) \\cos(\\varphi + \\frac{c}{v} \\cdot \\frac{r}{r_L}) \\\\\n",
    "&= \\cos(\\upsilon) \\cdot \\cos(\\chi) + \\sin(\\upsilon) \\cdot \\sin(\\chi) \\cos(\\varphi + \\frac{1}{\\frac{v}{c}} \\cdot z) \\\\\n",
    "&= \\cos(\\upsilon) \\cdot \\cos(\\chi) + \\sin(\\upsilon) \\cdot \\sin(\\chi) \\cos(\\varphi + \\frac{1}{\\beta_v} \\cdot z) \\\\\n",
    "\\Rightarrow \\psi_s = \\cos(\\upsilon) \\cdot \\cos(\\chi) + \\sin(\\upsilon) \\cdot \\sin(\\chi) \\cos(\\varphi + \\frac{z}{\\beta_v})\n",
    "\\end{align*}\n",
    "\n",
    "\\begin{align*}\n",
    "\\gamma_v &= \\frac{1}{\\sqrt{1 - \\beta_v^2}} \\\\\n",
    "\\gamma_v^2 &= \\frac{1}{1 - \\beta_v^2} \\\\\n",
    "\\gamma_v^2 \\cdot (1 - \\beta_v^2) &= 1 \\\\\n",
    "\\gamma_v^2 - \\gamma_v^2 \\cdot \\beta_v^2 &= 1 \\\\\n",
    "\\gamma_v^2 \\cdot \\beta_v^2 &= \\gamma_v^2 - 1 \\\\\n",
    "\\beta_v^2 &= \\frac{\\gamma_v^2 - 1}{\\gamma_v^2} \\\\\n",
    "\\beta_v &= \\sqrt{\\frac{\\gamma_v^2 - 1}{\\gamma_v^2}} \\\\\n",
    "\\beta_v &= \\frac{\\sqrt{\\gamma_v^2 - 1}}{\\gamma_v}\n",
    "\\end{align*}\n",
    "\n",
    "$ \\Rightarrow B_r = {\\beta}_{v}^2 \\cdot B_L \\cdot \\frac{1}{z}  \\cdot \\tanh(\\frac{\\psi_s}{\\Delta})$"
   ]
  },
  {
   "cell_type": "code",
   "execution_count": 1,
   "id": "2bbbd3be-4e62-4ff7-b196-01c4691d0495",
   "metadata": {},
   "outputs": [],
   "source": [
    "import numpy as np\n",
    "from matplotlib import pyplot as plt"
   ]
  },
  {
   "cell_type": "code",
   "execution_count": 2,
   "id": "855d86c2-a16d-4b08-b264-3d0594399698",
   "metadata": {},
   "outputs": [
    {
     "data": {
      "text/plain": [
       "0.05364721845346688"
      ]
     },
     "execution_count": 2,
     "metadata": {},
     "output_type": "execute_result"
    }
   ],
   "source": [
    "omega = 2*np.pi*0.008538220\n",
    "omega"
   ]
  },
  {
   "cell_type": "code",
   "execution_count": 3,
   "id": "3e634a68-5658-4a4e-bce7-6b6919f4654a",
   "metadata": {},
   "outputs": [
    {
     "data": {
      "text/plain": [
       "5588219979.3832245"
      ]
     },
     "execution_count": 3,
     "metadata": {},
     "output_type": "execute_result"
    }
   ],
   "source": [
    "rL = 2.99792458e+08 / omega\n",
    "rL"
   ]
  },
  {
   "cell_type": "code",
   "execution_count": 4,
   "id": "3015eaeb-224a-4663-8666-767615b9602c",
   "metadata": {},
   "outputs": [
    {
     "data": {
      "text/plain": [
       "0.5527707983925666"
      ]
     },
     "execution_count": 4,
     "metadata": {},
     "output_type": "execute_result"
    }
   ],
   "source": [
    "Bv = np.sqrt(1.2**2 - 1) / 1.2\n",
    "Bv"
   ]
  },
  {
   "cell_type": "code",
   "execution_count": 6,
   "id": "7d21a92a-8aa8-4b63-b2ed-4136fcefb575",
   "metadata": {},
   "outputs": [
    {
     "name": "stdout",
     "output_type": "stream",
     "text": [
      "0.03 Gauss is equal to 3e-06 Tesla.\n"
     ]
    }
   ],
   "source": [
    "def gauss_to_tesla(gauss):\n",
    "    \"\"\"\n",
    "    Convert Gauss to Tesla.\n",
    "\n",
    "    Parameters:\n",
    "        gauss : Value in Gauss.\n",
    "\n",
    "    Returns:\n",
    "        Value converted to Tesla.\n",
    "    \"\"\"\n",
    "    \n",
    "    tesla = gauss * 1e-4\n",
    "    return tesla\n",
    "\n",
    "BL_G = 0.03\n",
    "BL_T = gauss_to_tesla(BL_G) # T ~ Tesla\n",
    "print(f\"{BL_G} Gauss is equal to {BL_T} Tesla.\")"
   ]
  },
  {
   "cell_type": "code",
   "execution_count": 7,
   "id": "d27564de-64a5-4dd8-89b2-f84dabf96be7",
   "metadata": {},
   "outputs": [
    {
     "name": "stdout",
     "output_type": "stream",
     "text": [
      "60 degrees is equal to 1.0471975511965976 radians.\n"
     ]
    }
   ],
   "source": [
    "def degrees_to_radians(degrees):\n",
    "    \"\"\"\n",
    "    Convert degrees to radians.\n",
    "\n",
    "    Parameters:\n",
    "        degrees: Value in degrees.\n",
    "\n",
    "    Returns:\n",
    "        Value converted to radians.\n",
    "    \"\"\"\n",
    "    \n",
    "    radians = degrees * np.pi / 180\n",
    "    return radians\n",
    "\n",
    "\n",
    "Khi_d = 60  # khi in degrees\n",
    "Khi_r = degrees_to_radians(Khi_d)\n",
    "print(f\"{Khi_d} degrees is equal to {Khi_r} radians.\")"
   ]
  },
  {
   "cell_type": "code",
   "execution_count": 8,
   "id": "dae89ca9-82cc-4af8-895e-c79df58e1b90",
   "metadata": {},
   "outputs": [],
   "source": [
    "Delta = 0.5\n",
    "phi = np.pi / 2\n",
    "theta = np.pi / 4\n",
    "r = np.linspace(rL, 50*rL, 100)\n",
    "z = r/rL\n",
    "psi = np.cos(theta)*np.cos(Khi_r) + np.sin(theta)*np.sin(Khi_r)*np.cos(phi + z/Bv)\n",
    "Br = Bv**2 * BL_T * 1/(z)**2 * np.tanh(psi/Delta)"
   ]
  },
  {
   "cell_type": "code",
   "execution_count": 9,
   "id": "735efc34-b90e-431f-8830-be57df444f34",
   "metadata": {},
   "outputs": [
    {
     "data": {
      "image/png": "[encoded data removed]",
      "text/plain": [
       "<Figure size 640x480 with 2 Axes>"
      ]
     },
     "metadata": {},
     "output_type": "display_data"
    }
   ],
   "source": [
    "%matplotlib inline\n",
    "plt.style.use('ggplot');\n",
    "\n",
    "plt.subplots_adjust(hspace=0.4, wspace=0.8)\n",
    "\n",
    "plt.subplot(121)\n",
    "plt.plot(z, Br);\n",
    "plt.title(\"Plot of Br(r/rL) \")\n",
    "plt.xlabel(\"r/rL\")\n",
    "plt.ylabel(\"Br(r/rL)\");\n",
    "\n",
    "plt.subplot(122)\n",
    "plt.plot(z, r*Br);\n",
    "plt.title(\"Plot of rBr(r/rL) \")\n",
    "plt.xlabel(\"r/rL\")\n",
    "plt.ylabel(\"rBr(r/rL)\");"
   ]
  },
  {
   "cell_type": "code",
   "execution_count": null,
   "id": "763d6465-739b-4572-ac37-e691d9707354",
   "metadata": {},
   "outputs": [],
   "source": []
  }
 ],
 "metadata": {
  "kernelspec": {
   "display_name": "Python 3 (ipykernel)",
   "language": "python",
   "name": "python3"
  },
  "language_info": {
   "codemirror_mode": {
    "name": "ipython",
    "version": 3
   },
   "file_extension": ".py",
   "mimetype": "text/x-python",
   "name": "python",
   "nbconvert_exporter": "python",
   "pygments_lexer": "ipython3",
   "version": "3.10.5"
  }
 },
 "nbformat": 4,
 "nbformat_minor": 5
}
