{
 "cells": [
  {
   "cell_type": "markdown",
   "id": "f85eaf13-8323-45dd-b776-9461b618c467",
   "metadata": {},
   "source": [
    "$ I(t_o) = \\int_{0}^{+\\infty}\\int_{0}^{\\pi}\\int_{0}^{2\\pi}\\; s_o(r, t_{ret})\\left(\\frac{p + \\frac{7}{3}}{p + 1 }\\right) \\cdot r^2 \\sin(\\theta)\\;dr\\;d\\theta\\;d\\varphi  $ <br>\n",
    "$ s_o(r, t_{ret}) = s_o(r, \\theta, \\varphi, t_{ret}) $ with $ t_{ret} = t_{obs} + n \\cdot \\frac{r}{c}$"
   ]
  },
  {
   "cell_type": "code",
   "execution_count": 1,
   "id": "a3b37e20-8a69-47ae-be20-bf6253f75f59",
   "metadata": {},
   "outputs": [],
   "source": [
    "import scipy as scp"
   ]
  },
  {
   "cell_type": "code",
   "execution_count": 1,
   "id": "a04652d3-1103-4bec-95f9-d4d6581cd3a4",
   "metadata": {},
   "outputs": [],
   "source": [
    "import numpy as np\n",
    "\n",
    "from scipy.special import gamma"
   ]
  },
  {
   "cell_type": "code",
   "execution_count": 3,
   "id": "f4b4fa87-b2da-49e6-8034-fc3f632c76bf",
   "metadata": {},
   "outputs": [],
   "source": [
    "from scipy import special"
   ]
  },
  {
   "cell_type": "code",
   "execution_count": 2,
   "id": "c7baa7e2-5fa9-4ea0-88f4-fe891ac827a3",
   "metadata": {},
   "outputs": [],
   "source": [
    "p = np.array([0, 1, 2, 3, 4])"
   ]
  },
  {
   "cell_type": "code",
   "execution_count": 3,
   "id": "e793319f-00ab-4f6b-b478-bc55a18ffcf9",
   "metadata": {},
   "outputs": [],
   "source": [
    "z=(3*p + 7)/12"
   ]
  },
  {
   "cell_type": "code",
   "execution_count": 15,
   "id": "dc1bb2e9-55b7-476c-bd05-b2a9a2a45388",
   "metadata": {},
   "outputs": [],
   "source": [
    "GE_z = gamma(z)"
   ]
  },
  {
   "cell_type": "code",
   "execution_count": 5,
   "id": "e8fb819d-9690-49a2-88a8-88ad266cc2bd",
   "metadata": {},
   "outputs": [],
   "source": [
    "y=(3*p + 1)/12"
   ]
  },
  {
   "cell_type": "code",
   "execution_count": 16,
   "id": "cd648e4f-d024-4170-bf7b-97f0473e18b8",
   "metadata": {},
   "outputs": [],
   "source": [
    "GE_y = gamma(y)"
   ]
  },
  {
   "cell_type": "code",
   "execution_count": 18,
   "id": "2caa9fd8-8d42-4404-a54b-9a939f9c94cc",
   "metadata": {},
   "outputs": [],
   "source": [
    "from scipy.constants import gravitational_constant as G, c, m_e, epsilon_0 as epsi_0, elementary_charge as q"
   ]
  },
  {
   "cell_type": "code",
   "execution_count": 20,
   "id": "56998e99-e1d0-4019-b6bb-da3e10bed92a",
   "metadata": {},
   "outputs": [
    {
     "data": {
      "text/plain": [
       "2.0"
      ]
     },
     "execution_count": 20,
     "metadata": {},
     "output_type": "execute_result"
    }
   ],
   "source": [
    "np.sqrt(4)"
   ]
  },
  {
   "cell_type": "code",
   "execution_count": 14,
   "id": "4c5c8aee-f928-4462-97c5-f75ce99a8612",
   "metadata": {},
   "outputs": [
    {
     "data": {
      "text/plain": [
       "4.1127393005630515e-57"
      ]
     },
     "execution_count": 14,
     "metadata": {},
     "output_type": "execute_result"
    }
   ],
   "source": [
    "(abs(q))**3"
   ]
  },
  {
   "cell_type": "code",
   "execution_count": 12,
   "id": "09862329-f4cb-4079-af05-9e83b86b5e4e",
   "metadata": {},
   "outputs": [
    {
     "name": "stdout",
     "output_type": "stream",
     "text": [
      "315 ns ± 10.3 ns per loop (mean ± std. dev. of 7 runs, 1,000,000 loops each)\n"
     ]
    }
   ],
   "source": [
    "%timeit (abs(q))**3"
   ]
  },
  {
   "cell_type": "code",
   "execution_count": 8,
   "id": "78e48b18-e195-4ecb-b5f3-0f739572b53b",
   "metadata": {},
   "outputs": [
    {
     "data": {
      "text/plain": [
       "4.1127393005630515e-57"
      ]
     },
     "execution_count": 8,
     "metadata": {},
     "output_type": "execute_result"
    }
   ],
   "source": [
    "(np.abs(q))**3"
   ]
  },
  {
   "cell_type": "code",
   "execution_count": 10,
   "id": "4d604a8e-5e33-45db-86b3-6ca1dd63f632",
   "metadata": {},
   "outputs": [
    {
     "name": "stdout",
     "output_type": "stream",
     "text": [
      "1.96 µs ± 76.1 ns per loop (mean ± std. dev. of 7 runs, 100,000 loops each)\n"
     ]
    }
   ],
   "source": [
    "%timeit (np.abs(q))**3"
   ]
  },
  {
   "cell_type": "code",
   "execution_count": 20,
   "id": "4c07bd62-b64e-4717-8681-c57292977f56",
   "metadata": {},
   "outputs": [
    {
     "data": {
      "text/plain": [
       "array([2.03138883e-06, 3.10032784e+12, 1.33258114e+31, 8.13519966e+49,\n",
       "       6.11916702e+68])"
      ]
     },
     "execution_count": 20,
     "metadata": {},
     "output_type": "execute_result"
    }
   ],
   "source": [
    "K = (np.sqrt(3) * GE_z * GE_y * abs(q)**3)/(72 * np.pi * epsi_0 * m_e * c)*((3 * abs(q))/(m_e**3 * c**4))**((p + 1)/2)\n",
    "K"
   ]
  },
  {
   "cell_type": "code",
   "execution_count": null,
   "id": "7d6cc195-6535-4faf-bad9-14a18a127fff",
   "metadata": {},
   "outputs": [],
   "source": []
  }
 ],
 "metadata": {
  "kernelspec": {
   "display_name": "Python 3 (ipykernel)",
   "language": "python",
   "name": "python3"
  },
  "language_info": {
   "codemirror_mode": {
    "name": "ipython",
    "version": 3
   },
   "file_extension": ".py",
   "mimetype": "text/x-python",
   "name": "python",
   "nbconvert_exporter": "python",
   "pygments_lexer": "ipython3",
   "version": "3.10.5"
  }
 },
 "nbformat": 4,
 "nbformat_minor": 5
}
